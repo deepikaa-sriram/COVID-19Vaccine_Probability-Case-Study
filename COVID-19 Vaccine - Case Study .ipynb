{
 "cells": [
  {
   "cell_type": "markdown",
   "id": "bbca9570",
   "metadata": {},
   "source": [
    "--------------------------------------------\n",
    "# **COVID-19 Vaccine Case Study**\n",
    "--------------------------------------------\n",
    "The dataset and problem statements were provided as part of the MIT Applied Data Science Program. \n",
    "\n",
    "Analysis completed by Deepikaa Sriram\n",
    "\n",
    "--------------------\n",
    "## **Context** \n",
    "--------------------\n",
    "\n",
    "Medicon, a pharmaceutical company, has manufactured the sixth batch (40,000 units) of COVID-19 vaccine doses. **This vaccine was clinically tested last quarter and around 200,000 doses have already been given to people in five batches.**\n",
    "\n",
    "Now, the sixth batch of doses needs to be tested for their **time of effect** (measured as the **time taken for the dose to be absorbed in the body for its COVID-19 preventative effects** such as antibody creation, to manifest), as well as for **quality assurance** (which tells you whether the dose will be able to do a satisfactory job or not).\n",
    "\n",
    "You are working with the quality assurance team of Medicon and want to understand the quality of the sixth batch so that the company can plan for the next batch of doses. \n",
    "\n",
    "**Note:** Please note that this is not a clinical trial, the vaccine has already cleared clinical trials. This test is to ensure the quality and effectiveness of the sixth batch."
   ]
  },
  {
   "cell_type": "markdown",
   "id": "e34268bd",
   "metadata": {},
   "source": [
    "## **Objective** \n",
    "------------------------\n",
    "\n",
    "The Medicon Quality Assurance team conducted a previous analysis, which indicated that a dose is ten times more likely to produce a satisfactory result than not.\n",
    "\n",
    "\n",
    "**Note:** Here, a satisfactory job for the vaccine means that the dose **has successfully prevented COVID-19** - which is assumed to have taken place if the person does not show any symptoms or side effects after 14 days have passed since the vaccine dose was administered."
   ]
  },
  {
   "cell_type": "code",
   "execution_count": 53,
   "id": "ba5a8ec4",
   "metadata": {},
   "outputs": [],
   "source": [
    "import pandas as pd\n",
    "\n",
    "import numpy as np\n",
    "\n",
    "import matplotlib.pyplot as plt\n",
    "\n",
    "import seaborn as sns\n",
    "\n",
    "%matplotlib inline\n",
    "\n",
    "import scipy.stats as stats"
   ]
  },
  {
   "cell_type": "code",
   "execution_count": 5,
   "id": "38cb83ce",
   "metadata": {},
   "outputs": [
    {
     "data": {
      "text/html": [
       "<div>\n",
       "<style scoped>\n",
       "    .dataframe tbody tr th:only-of-type {\n",
       "        vertical-align: middle;\n",
       "    }\n",
       "\n",
       "    .dataframe tbody tr th {\n",
       "        vertical-align: top;\n",
       "    }\n",
       "\n",
       "    .dataframe thead th {\n",
       "        text-align: right;\n",
       "    }\n",
       "</style>\n",
       "<table border=\"1\" class=\"dataframe\">\n",
       "  <thead>\n",
       "    <tr style=\"text-align: right;\">\n",
       "      <th></th>\n",
       "      <th>drug_serial_number</th>\n",
       "      <th>time_of_effect</th>\n",
       "    </tr>\n",
       "  </thead>\n",
       "  <tbody>\n",
       "    <tr>\n",
       "      <th>0</th>\n",
       "      <td>672</td>\n",
       "      <td>5.8</td>\n",
       "    </tr>\n",
       "    <tr>\n",
       "      <th>1</th>\n",
       "      <td>895</td>\n",
       "      <td>17.3</td>\n",
       "    </tr>\n",
       "    <tr>\n",
       "      <th>2</th>\n",
       "      <td>518</td>\n",
       "      <td>16.7</td>\n",
       "    </tr>\n",
       "    <tr>\n",
       "      <th>3</th>\n",
       "      <td>448</td>\n",
       "      <td>13.1</td>\n",
       "    </tr>\n",
       "    <tr>\n",
       "      <th>4</th>\n",
       "      <td>402</td>\n",
       "      <td>13.6</td>\n",
       "    </tr>\n",
       "  </tbody>\n",
       "</table>\n",
       "</div>"
      ],
      "text/plain": [
       "   drug_serial_number  time_of_effect\n",
       "0                 672             5.8\n",
       "1                 895            17.3\n",
       "2                 518            16.7\n",
       "3                 448            13.1\n",
       "4                 402            13.6"
      ]
     },
     "execution_count": 5,
     "metadata": {},
     "output_type": "execute_result"
    }
   ],
   "source": [
    "df = pd.read_csv('doses.csv')\n",
    "df.head()"
   ]
  },
  {
   "cell_type": "markdown",
   "id": "e111cd84",
   "metadata": {},
   "source": [
    "The dataset contains doses represented by the drug serial number, which is a discrete variable. It also contains the time of effect (# of hours) for the dose to be absorbed in the body to generate COVID-19 antibodies, which is a continuous variable. "
   ]
  },
  {
   "cell_type": "markdown",
   "id": "86ef370b",
   "metadata": {},
   "source": [
    "## Q1. The quality assurance team has collected 100 volunteers who were ready for the trial of this new batch, and they have given one dose to each volunteer. Help the team answer the following questions:\n",
    "\n",
    "\n",
    "a) **Plot the probability distribution** for the number of unsatisfactory doses.\n",
    "\n",
    "b) What is the probability that **exactly 3 doses will not do a satisfactory job**?\n",
    "\n",
    "c) What is the probability that **at most 3 doses will not do a satisfactory job** out of 100 selected?"
   ]
  },
  {
   "cell_type": "markdown",
   "id": "f576b411",
   "metadata": {},
   "source": [
    "### Plot the probability distribution for the number of unsatisfactory doses. \n",
    "\n",
    "The number of unsatisfactory doses would best be characterized by a **binomial distribution** because there are a fixed number of trials (n) with only two possible outcomes (success/failure) that are independent of one another and have an equal probability of occurrence. "
   ]
  },
  {
   "cell_type": "markdown",
   "id": "4fd96044",
   "metadata": {},
   "source": [
    "The Medicon QA team reported that it is **10x more likely that a dose will be satisfactory rather than unsatisfactory**. \n",
    "\n",
    "Let p = the probability that the dose will be unsatisfactory (successful) \n",
    "\n",
    "Therefore the probability that a dose will be unsatisfactory can be calculated by: \n",
    "\n",
    "$p + 10p = 1$\n",
    "\n",
    "$p = 0.09$ \n",
    "\n",
    "**The probability that a dose will be unsatisfactory is 0.09** "
   ]
  },
  {
   "cell_type": "code",
   "execution_count": 31,
   "id": "6a4a29d1",
   "metadata": {},
   "outputs": [
    {
     "data": {
      "text/plain": [
       "array([  0,   1,   2,   3,   4,   5,   6,   7,   8,   9,  10,  11,  12,\n",
       "        13,  14,  15,  16,  17,  18,  19,  20,  21,  22,  23,  24,  25,\n",
       "        26,  27,  28,  29,  30,  31,  32,  33,  34,  35,  36,  37,  38,\n",
       "        39,  40,  41,  42,  43,  44,  45,  46,  47,  48,  49,  50,  51,\n",
       "        52,  53,  54,  55,  56,  57,  58,  59,  60,  61,  62,  63,  64,\n",
       "        65,  66,  67,  68,  69,  70,  71,  72,  73,  74,  75,  76,  77,\n",
       "        78,  79,  80,  81,  82,  83,  84,  85,  86,  87,  88,  89,  90,\n",
       "        91,  92,  93,  94,  95,  96,  97,  98,  99, 100])"
      ]
     },
     "execution_count": 31,
     "metadata": {},
     "output_type": "execute_result"
    }
   ],
   "source": [
    "#set n as the number of doses\n",
    "n=100\n",
    "\n",
    "#set p as the probability the dose will be unsatisfactory \n",
    "p=0.09\n",
    "\n",
    "#set k as the number of doses in the numpy array \n",
    "k = np.arange(0,101)\n",
    "\n",
    "k"
   ]
  },
  {
   "cell_type": "code",
   "execution_count": 10,
   "id": "7405902f",
   "metadata": {},
   "outputs": [
    {
     "data": {
      "text/plain": [
       "array([8.01935118e-005, 7.93122644e-004, 3.88281470e-003, 1.25444783e-002,\n",
       "       3.00860701e-002, 5.71304716e-002, 8.94625517e-002, 1.18815257e-001,\n",
       "       1.36604904e-001, 1.38106057e-001, 1.24295451e-001, 1.00578737e-001,\n",
       "       7.37761613e-002, 4.93919862e-002, 3.03562992e-002, 1.72130224e-002,\n",
       "       9.04393005e-003, 4.41965812e-003, 2.01555838e-003, 8.60313523e-004,\n",
       "       3.44598109e-004, 1.29832882e-004, 4.61094802e-005, 1.54652915e-005,\n",
       "       4.90725596e-006, 1.47541234e-006, 4.20922794e-007, 1.14096288e-007,\n",
       "       2.94196474e-008, 7.22392251e-009, 1.69087417e-009, 3.77614579e-010,\n",
       "       8.05283837e-011, 1.64113789e-011, 3.19846848e-012, 5.96511861e-013,\n",
       "       1.06519975e-013, 1.82226034e-014, 2.98791675e-015, 4.69782347e-016,\n",
       "       7.08545353e-017, 1.02550118e-017, 1.42475439e-018, 1.90064347e-019,\n",
       "       2.43514011e-020, 2.99709552e-021, 3.54410483e-022, 4.02720353e-023,\n",
       "       4.39783902e-024, 4.61580772e-025, 4.65638625e-026, 4.51491879e-027,\n",
       "       4.20769059e-028, 3.76886240e-029, 3.24425884e-030, 2.68356276e-031,\n",
       "       2.13273728e-032, 1.62823205e-033, 1.19387230e-034, 8.40535911e-036,\n",
       "       5.68054489e-037, 3.68401398e-038, 2.29189810e-039, 1.36722336e-040,\n",
       "       7.81740003e-042, 4.28205851e-043, 2.24583488e-044, 1.12715348e-045,\n",
       "       5.40989952e-047, 2.48136815e-048, 1.08681588e-049, 4.54171625e-051,\n",
       "       1.80920015e-052, 6.86314073e-054, 2.47660113e-055, 8.49120386e-057,\n",
       "       2.76246511e-058, 8.51566239e-060, 2.48343493e-061, 6.83989590e-063,\n",
       "       1.77574220e-064, 4.33636680e-066, 9.93726512e-068, 2.13138746e-069,\n",
       "       4.26612090e-071, 7.94209967e-073, 1.37002742e-074, 2.18041498e-076,\n",
       "       3.18567124e-078, 4.24808611e-080, 5.13504915e-082, 5.58090114e-084,\n",
       "       5.39958185e-086, 4.59375981e-088, 3.38329282e-090, 2.11333502e-092,\n",
       "       1.08859977e-094, 4.43974076e-097, 1.34416910e-099, 2.68565255e-102,\n",
       "       2.65613989e-105])"
      ]
     },
     "execution_count": 10,
     "metadata": {},
     "output_type": "execute_result"
    }
   ],
   "source": [
    "from scipy.stats import binom\n",
    "binomial = binom.pmf(k=k, n=n, p=p)\n",
    "\n",
    "binomial"
   ]
  },
  {
   "cell_type": "code",
   "execution_count": 22,
   "id": "9b66cd04",
   "metadata": {},
   "outputs": [
    {
     "data": {
      "image/png": "[encoded data removed]",
      "text/plain": [
       "<Figure size 640x480 with 1 Axes>"
      ]
     },
     "metadata": {},
     "output_type": "display_data"
    }
   ],
   "source": [
    "plt.bar(k, binomial)\n",
    "plt.xlim(0,25)\n",
    "plt.title('Binomial Distribution: n=100, p=0.09', fontsize=15)\n",
    "plt.xlabel('Number of Doses')\n",
    "plt.ylabel('Probability that doses will be Unsatisfactory')\n",
    "plt.show()"
   ]
  },
  {
   "cell_type": "markdown",
   "id": "401da55c",
   "metadata": {},
   "source": [
    "### What is the probability that exactly 3 doses will not do a satisfactory job?"
   ]
  },
  {
   "cell_type": "code",
   "execution_count": 15,
   "id": "aea54861",
   "metadata": {},
   "outputs": [
    {
     "data": {
      "text/plain": [
       "0.012544478265088905"
      ]
     },
     "execution_count": 15,
     "metadata": {},
     "output_type": "execute_result"
    }
   ],
   "source": [
    "binomial[3]"
   ]
  },
  {
   "cell_type": "markdown",
   "id": "928a7f3a",
   "metadata": {},
   "source": [
    "**The probability that exactly 3 doses will not do an satisfactory job is 1.25%**"
   ]
  },
  {
   "cell_type": "markdown",
   "id": "4100aa85",
   "metadata": {},
   "source": [
    "### What is the probability that at most 3 doses will not do a satisfactory job out of the 100 selected?\n",
    "\n",
    "Let x= the number of doses that will not do a satisfactory job.\n",
    "\n",
    "To determine the $p(x<=3)$:   "
   ]
  },
  {
   "cell_type": "code",
   "execution_count": 23,
   "id": "1fb0908c",
   "metadata": {},
   "outputs": [
    {
     "data": {
      "image/png": "[encoded data removed]",
      "text/plain": [
       "<Figure size 640x480 with 1 Axes>"
      ]
     },
     "metadata": {},
     "output_type": "display_data"
    }
   ],
   "source": [
    "barl = plt.bar(k, binomial)\n",
    "plt.title(\"Binomial: n=100 , p=0.09 \", fontsize=15) # set the title\n",
    "plt.xlim(0,25)\n",
    "plt.xlabel(\"Number of Doses\") \n",
    "plt.ylabel(\"Probability that doses will be Unsatisfactory\") \n",
    "for i in range(0, 4):\n",
    "    barl[i].set_color(\"r\") \n",
    "plt.show()"
   ]
  },
  {
   "cell_type": "code",
   "execution_count": 21,
   "id": "7d296d41",
   "metadata": {},
   "outputs": [
    {
     "name": "stdout",
     "output_type": "stream",
     "text": [
      "0.017300609121718068\n"
     ]
    }
   ],
   "source": [
    "from scipy.stats import binom\n",
    "\n",
    "probability_atmost3 = binom.cdf (k=3, n=n, p=p)\n",
    "\n",
    "print (probability_atmost3)"
   ]
  },
  {
   "cell_type": "markdown",
   "id": "ccd35890",
   "metadata": {},
   "source": [
    "**The probability that at most 3 doses will not do a satisfactory job is 1.73%**"
   ]
  },
  {
   "cell_type": "markdown",
   "id": "6ea344b5",
   "metadata": {},
   "source": [
    "## Q2. The New York city administration wants to buy 200 doses for Healthcare workers who tested positive for COVID-19. They have contacted the company and requested 200 doses. What is the probability that **at least 30 doses will not do a satisfactory job** out of 200 doses?"
   ]
  },
  {
   "cell_type": "code",
   "execution_count": 24,
   "id": "7e19cfd6",
   "metadata": {},
   "outputs": [
    {
     "data": {
      "text/plain": [
       "array([  0,   1,   2,   3,   4,   5,   6,   7,   8,   9,  10,  11,  12,\n",
       "        13,  14,  15,  16,  17,  18,  19,  20,  21,  22,  23,  24,  25,\n",
       "        26,  27,  28,  29,  30,  31,  32,  33,  34,  35,  36,  37,  38,\n",
       "        39,  40,  41,  42,  43,  44,  45,  46,  47,  48,  49,  50,  51,\n",
       "        52,  53,  54,  55,  56,  57,  58,  59,  60,  61,  62,  63,  64,\n",
       "        65,  66,  67,  68,  69,  70,  71,  72,  73,  74,  75,  76,  77,\n",
       "        78,  79,  80,  81,  82,  83,  84,  85,  86,  87,  88,  89,  90,\n",
       "        91,  92,  93,  94,  95,  96,  97,  98,  99, 100, 101, 102, 103,\n",
       "       104, 105, 106, 107, 108, 109, 110, 111, 112, 113, 114, 115, 116,\n",
       "       117, 118, 119, 120, 121, 122, 123, 124, 125, 126, 127, 128, 129,\n",
       "       130, 131, 132, 133, 134, 135, 136, 137, 138, 139, 140, 141, 142,\n",
       "       143, 144, 145, 146, 147, 148, 149, 150, 151, 152, 153, 154, 155,\n",
       "       156, 157, 158, 159, 160, 161, 162, 163, 164, 165, 166, 167, 168,\n",
       "       169, 170, 171, 172, 173, 174, 175, 176, 177, 178, 179, 180, 181,\n",
       "       182, 183, 184, 185, 186, 187, 188, 189, 190, 191, 192, 193, 194,\n",
       "       195, 196, 197, 198, 199, 200])"
      ]
     },
     "execution_count": 24,
     "metadata": {},
     "output_type": "execute_result"
    }
   ],
   "source": [
    "#set n as the number of doses\n",
    "n=200\n",
    "\n",
    "#set p as the probability the dose will be unsatisfactory \n",
    "p=0.09\n",
    "\n",
    "#set k as the number of doses in the numpy array \n",
    "k = np.arange(0,201)\n",
    "\n",
    "k"
   ]
  },
  {
   "cell_type": "code",
   "execution_count": 25,
   "id": "f8413613",
   "metadata": {},
   "outputs": [],
   "source": [
    "from scipy.stats import binom\n",
    "binomial = binom.pmf(k = k, n = n, p = p)"
   ]
  },
  {
   "cell_type": "code",
   "execution_count": 28,
   "id": "b6d38828",
   "metadata": {},
   "outputs": [
    {
     "data": {
      "image/png": "[encoded data removed]",
      "text/plain": [
       "<Figure size 640x480 with 1 Axes>"
      ]
     },
     "metadata": {},
     "output_type": "display_data"
    }
   ],
   "source": [
    "barl = plt.bar(k, binomial)\n",
    "plt.title(\"Binomial: n=200 , p=0.09 \", fontsize=15) # set the title\n",
    "plt.xlim(0,50)\n",
    "plt.xlabel(\"Number of Doses\") \n",
    "plt.ylabel(\"Probability that doses will be Unsatisfactory\") \n",
    "for i in range(30, 201):\n",
    "    barl[i].set_color(\"r\") \n",
    "plt.show()"
   ]
  },
  {
   "cell_type": "code",
   "execution_count": 29,
   "id": "4b7dfced",
   "metadata": {},
   "outputs": [
    {
     "name": "stdout",
     "output_type": "stream",
     "text": [
      "0.003963863923503452\n"
     ]
    }
   ],
   "source": [
    "probability_atleast30 = 1-binom.cdf(k=29, n=200, p=0.09)\n",
    "print(probability_atleast30)"
   ]
  },
  {
   "cell_type": "markdown",
   "id": "abcd45e7",
   "metadata": {},
   "source": [
    "**The probability that at least 30 doses will not do a satisfactory job is ~0.4%**"
   ]
  },
  {
   "cell_type": "markdown",
   "id": "ca190179",
   "metadata": {},
   "source": [
    "## Q3. The quality assurance team wants to analyze the **time of effect for doses**. So, they have enlisted help from 50 volunteers with the assistance of the city administration, and gave one dose to each volunteer. Data for these 50 doses are in the 'doses.csv' file. Based on this sample, answer the following questions:\n",
    "\n",
    "a) What is the probability that the time of effect is **less than 11.5 hours**?\n",
    "\n",
    "b) What is the **90th percentile of time of effect for the doses**?\n",
    "\n",
    "c) For the effectiveness test of the vaccine, estimate the **range which will contain the population mean (time of effect) with a 95% confidence level.**"
   ]
  },
  {
   "cell_type": "markdown",
   "id": "98a6d476",
   "metadata": {},
   "source": [
    "### What is the probability that the time of effect is **less than 11.5 hours**?"
   ]
  },
  {
   "cell_type": "code",
   "execution_count": 33,
   "id": "fe098d3d",
   "metadata": {},
   "outputs": [
    {
     "name": "stdout",
     "output_type": "stream",
     "text": [
      "The average time of effect is 13.44\n",
      "The standard deviation of the time of effect is 4.75\n"
     ]
    }
   ],
   "source": [
    "from scipy.stats import norm\n",
    "mean = df['time_of_effect'].mean()\n",
    "stdev = df['time_of_effect'].std()\n",
    "\n",
    "print('The average time of effect is', round(mean,2))\n",
    "print('The standard deviation of the time of effect is', round(stdev,2))"
   ]
  },
  {
   "cell_type": "code",
   "execution_count": 34,
   "id": "668a3b48",
   "metadata": {},
   "outputs": [
    {
     "data": {
      "text/plain": [
       "<seaborn.axisgrid.FacetGrid at 0x7f9c73f17fd0>"
      ]
     },
     "execution_count": 34,
     "metadata": {},
     "output_type": "execute_result"
    },
    {
     "data": {
      "image/png": "[encoded data removed]",
      "text/plain": [
       "<Figure size 500x500 with 1 Axes>"
      ]
     },
     "metadata": {},
     "output_type": "display_data"
    }
   ],
   "source": [
    "import seaborn as sns\n",
    "sns.displot(df['time_of_effect'], kind=\"kde\")"
   ]
  },
  {
   "cell_type": "markdown",
   "id": "e75475fd",
   "metadata": {},
   "source": [
    "The shape of the distribution is not perfectly normal. \n",
    "\n",
    "We could assume that as the number of observations increase, the distribution would tend towards normal. "
   ]
  },
  {
   "cell_type": "code",
   "execution_count": 40,
   "id": "e075881b",
   "metadata": {},
   "outputs": [
    {
     "name": "stdout",
     "output_type": "stream",
     "text": [
      "0.3412\n"
     ]
    }
   ],
   "source": [
    "probability_11 = norm.cdf(11.5, mean, stdev)\n",
    "print(round(probability_11, 4))"
   ]
  },
  {
   "cell_type": "markdown",
   "id": "1ade201a",
   "metadata": {},
   "source": [
    "The probability that a dose will take less than 11.5 hours is approximately 34.12% "
   ]
  },
  {
   "cell_type": "markdown",
   "id": "b2f4467e",
   "metadata": {},
   "source": [
    "### What is the 90th percentile of the time of effect for the doses?"
   ]
  },
  {
   "cell_type": "code",
   "execution_count": 47,
   "id": "2fe299eb",
   "metadata": {},
   "outputs": [
    {
     "name": "stdout",
     "output_type": "stream",
     "text": [
      "19.52\n"
     ]
    }
   ],
   "source": [
    "percentile_90th = norm.ppf(0.9, mean, stdev)\n",
    "print(round(percentile_90th, 2))"
   ]
  },
  {
   "cell_type": "markdown",
   "id": "1f3d1909",
   "metadata": {},
   "source": [
    "The 90th percentile for the time of effect is 19.52 hours "
   ]
  },
  {
   "cell_type": "markdown",
   "id": "0d80402d",
   "metadata": {},
   "source": [
    "### For the effectiveness test of the vaccine, estimate the range which will contain the population mean (time of effect) with a 95% confidence level."
   ]
  },
  {
   "cell_type": "markdown",
   "id": "dde7e141",
   "metadata": {},
   "source": [
    "Given that we don't know the population standard deviation, it's best to calculate the confidence interval using the t-distribution. "
   ]
  },
  {
   "cell_type": "code",
   "execution_count": 51,
   "id": "36c09a14",
   "metadata": {},
   "outputs": [
    {
     "data": {
      "text/plain": [
       "array([12.09, 14.79])"
      ]
     },
     "execution_count": 51,
     "metadata": {},
     "output_type": "execute_result"
    }
   ],
   "source": [
    "from scipy.stats import t\n",
    "\n",
    "x_bar, s = mean, stdev\n",
    "n = 50\n",
    "k = n-1\n",
    "np.round(t.interval(0.95, df = k, loc=x_bar, scale = s / np.sqrt(n)), 2)"
   ]
  },
  {
   "cell_type": "markdown",
   "id": "f30775e3",
   "metadata": {},
   "source": [
    "95% of the time, the population mean (time of effect) will fall within the interval 12.09 hours and 14.79 hours."
   ]
  }
 ],
 "metadata": {
  "kernelspec": {
   "display_name": "Python 3 (ipykernel)",
   "language": "python",
   "name": "python3"
  },
  "language_info": {
   "codemirror_mode": {
    "name": "ipython",
    "version": 3
   },
   "file_extension": ".py",
   "mimetype": "text/x-python",
   "name": "python",
   "nbconvert_exporter": "python",
   "pygments_lexer": "ipython3",
   "version": "3.9.13"
  }
 },
 "nbformat": 4,
 "nbformat_minor": 5
}
